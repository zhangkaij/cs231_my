{
 "cells": [
  {
   "cell_type": "markdown",
   "metadata": {},
   "source": [
    "# Softmax exercise\n",
    "\n",
    "*Complete and hand in this completed worksheet (including its outputs and any supporting code outside of the worksheet) with your assignment submission. For more details see the [assignments page](http://vision.stanford.edu/teaching/cs231n/assignments.html) on the course website.*\n",
    "\n",
    "This exercise is analogous to the SVM exercise. You will:\n",
    "\n",
    "- implement a fully-vectorized **loss function** for the Softmax classifier\n",
    "- implement the fully-vectorized expression for its **analytic gradient**\n",
    "- **check your implementation** with numerical gradient\n",
    "- use a validation set to **tune the learning rate and regularization** strength\n",
    "- **optimize** the loss function with **SGD**\n",
    "- **visualize** the final learned weights\n"
   ]
  },
  {
   "cell_type": "code",
   "execution_count": 1,
   "metadata": {
    "collapsed": false
   },
   "outputs": [],
   "source": [
    "import random\n",
    "import numpy as np\n",
    "from cs231n.data_utils import load_CIFAR10\n",
    "import matplotlib.pyplot as plt\n",
    "%matplotlib inline\n",
    "plt.rcParams['figure.figsize'] = (10.0, 8.0) # set default size of plots\n",
    "plt.rcParams['image.interpolation'] = 'nearest'\n",
    "plt.rcParams['image.cmap'] = 'gray'\n",
    "\n",
    "# for auto-reloading extenrnal modules\n",
    "# see http://stackoverflow.com/questions/1907993/autoreload-of-modules-in-ipython\n",
    "%reload_ext autoreload\n",
    "%autoreload 2"
   ]
  },
  {
   "cell_type": "code",
   "execution_count": 2,
   "metadata": {
    "collapsed": false
   },
   "outputs": [
    {
     "name": "stdout",
     "output_type": "stream",
     "text": [
      "Train data shape:  (49000, 3073)\n",
      "Train labels shape:  (49000,)\n",
      "Validation data shape:  (1000, 3073)\n",
      "Validation labels shape:  (1000,)\n",
      "Test data shape:  (1000, 3073)\n",
      "Test labels shape:  (1000,)\n",
      "dev data shape:  (500, 3073)\n",
      "dev labels shape:  (500,)\n"
     ]
    }
   ],
   "source": [
    "def get_CIFAR10_data(num_training=49000, num_validation=1000, num_test=1000, num_dev=500):\n",
    "  \"\"\"\n",
    "  Load the CIFAR-10 dataset from disk and perform preprocessing to prepare\n",
    "  it for the linear classifier. These are the same steps as we used for the\n",
    "  SVM, but condensed to a single function.  \n",
    "  \"\"\"\n",
    "  # Load the raw CIFAR-10 data\n",
    "  cifar10_dir = 'cs231n/datasets/cifar-10-batches-py'\n",
    "  X_train, y_train, X_test, y_test = load_CIFAR10(cifar10_dir)\n",
    "  \n",
    "  print(X_train.shape)\n",
    "  # subsample the data\n",
    "  mask = range(num_training, num_training + num_validation)\n",
    "  X_val = X_train[mask]\n",
    "  y_val = y_train[mask]\n",
    "  mask = range(num_training)\n",
    "  X_train = X_train[mask]\n",
    "  y_train = y_train[mask]\n",
    "  mask = range(num_test)\n",
    "  X_test = X_test[mask]\n",
    "  y_test = y_test[mask]\n",
    "  mask = np.random.choice(num_training, num_dev, replace=False)\n",
    "  X_dev = X_train[mask]\n",
    "  y_dev = y_train[mask]\n",
    "  \n",
    "  # Preprocessing: reshape the image data into rows\n",
    "  X_train = np.reshape(X_train, (X_train.shape[0], -1))\n",
    "  X_val = np.reshape(X_val, (X_val.shape[0], -1))\n",
    "  X_test = np.reshape(X_test, (X_test.shape[0], -1))\n",
    "  X_dev = np.reshape(X_dev, (X_dev.shape[0], -1))\n",
    "  \n",
    "  # Normalize the data: subtract the mean image\n",
    "  mean_image = np.mean(X_train, axis = 0)\n",
    "  X_train -= mean_image\n",
    "  X_val -= mean_image\n",
    "  X_test -= mean_image\n",
    "  X_dev -= mean_image\n",
    "  \n",
    "  # add bias dimension and transform into columns\n",
    "  X_train = np.hstack([X_train, np.ones((X_train.shape[0], 1))])\n",
    "  X_val = np.hstack([X_val, np.ones((X_val.shape[0], 1))])\n",
    "  X_test = np.hstack([X_test, np.ones((X_test.shape[0], 1))])\n",
    "  X_dev = np.hstack([X_dev, np.ones((X_dev.shape[0], 1))])\n",
    "  \n",
    "  return X_train, y_train, X_val, y_val, X_test, y_test, X_dev, y_dev\n",
    "\n",
    "\n",
    "# Invoke the above function to get our data.\n",
    "X_train, y_train, X_val, y_val, X_test, y_test, X_dev, y_dev = get_CIFAR10_data()\n",
    "print('Train data shape: ', X_train.shape)\n",
    "print('Train labels shape: ', y_train.shape)\n",
    "print('Validation data shape: ', X_val.shape)\n",
    "print('Validation labels shape: ', y_val.shape)\n",
    "print('Test data shape: ', X_test.shape)\n",
    "print('Test labels shape: ', y_test.shape)\n",
    "print('dev data shape: ', X_dev.shape)\n",
    "print('dev labels shape: ', y_dev.shape)"
   ]
  },
  {
   "cell_type": "markdown",
   "metadata": {},
   "source": [
    "## Softmax Classifier\n",
    "\n",
    "Your code for this section will all be written inside **cs231n/classifiers/softmax.py**. \n"
   ]
  },
  {
   "cell_type": "code",
   "execution_count": 19,
   "metadata": {
    "collapsed": false
   },
   "outputs": [
    {
     "name": "stdout",
     "output_type": "stream",
     "text": [
      "loss: 2.364982\n",
      "sanity check: 2.302585\n"
     ]
    }
   ],
   "source": [
    "# First implement the naive softmax loss function with nested loops.\n",
    "# Open the file cs231n/classifiers/softmax.py and implement the\n",
    "# softmax_loss_naive function.\n",
    "\n",
    "from cs231n.classifiers.softmax import softmax_loss_naive\n",
    "import time\n",
    "\n",
    "# Generate a random softmax weight matrix and use it to compute the loss.\n",
    "W = np.random.randn(3073, 10) * 0.0001\n",
    "loss, grad = softmax_loss_naive(W, X_dev, y_dev, 0.0)\n",
    "\n",
    "# As a rough sanity check, our loss should be something close to -log(0.1).\n",
    "print('loss: %f' % loss)\n",
    "print('sanity check: %f' % (-np.log(0.1)))"
   ]
  },
  {
   "cell_type": "markdown",
   "metadata": {},
   "source": [
    "## Inline Question 1:\n",
    "Why do we expect our loss to be close to -log(0.1)? Explain briefly.**\n",
    "\n",
    "**Your answer:** *Fill this in*\n"
   ]
  },
  {
   "cell_type": "code",
   "execution_count": 25,
   "metadata": {
    "collapsed": false
   },
   "outputs": [
    {
     "name": "stdout",
     "output_type": "stream",
     "text": [
      "numerical: 0.629186 analytic: 0.629186, relative error: 2.314598e-08\n",
      "numerical: 0.119206 analytic: 0.119206, relative error: 3.959109e-07\n",
      "numerical: -0.393510 analytic: -0.393510, relative error: 5.284819e-09\n",
      "numerical: -0.207706 analytic: -0.207706, relative error: 7.392870e-08\n",
      "numerical: 1.426743 analytic: 1.426743, relative error: 2.063712e-08\n",
      "numerical: -0.375347 analytic: -0.375347, relative error: 1.738230e-07\n",
      "numerical: -2.005710 analytic: -2.005710, relative error: 3.724701e-08\n",
      "numerical: 1.588343 analytic: 1.588343, relative error: 3.280433e-09\n",
      "numerical: -0.528147 analytic: -0.528147, relative error: 9.854093e-08\n",
      "numerical: -1.760160 analytic: -1.760160, relative error: 9.669407e-09\n",
      "numerical: -0.815913 analytic: -0.815913, relative error: 1.843720e-08\n",
      "numerical: 1.588017 analytic: 1.588017, relative error: 1.364376e-08\n",
      "numerical: -2.230038 analytic: -2.230038, relative error: 1.232588e-08\n",
      "numerical: -4.102507 analytic: -4.102507, relative error: 7.982260e-10\n",
      "numerical: 0.915418 analytic: 0.915418, relative error: 8.447217e-09\n",
      "numerical: -1.052765 analytic: -1.052765, relative error: 4.023734e-08\n",
      "numerical: -2.691596 analytic: -2.691596, relative error: 1.266075e-08\n",
      "numerical: -0.103505 analytic: -0.103505, relative error: 5.358632e-07\n",
      "numerical: -0.791178 analytic: -0.791178, relative error: 2.743874e-08\n",
      "numerical: -2.445429 analytic: -2.445429, relative error: 1.989017e-08\n"
     ]
    }
   ],
   "source": [
    "# Complete the implementation of softmax_loss_naive and implement a (naive)\n",
    "# version of the gradient that uses nested loops.\n",
    "loss, grad = softmax_loss_naive(W, X_dev, y_dev, 0.0)\n",
    "\n",
    "# As we did for the SVM, use numeric gradient checking as a debugging tool.\n",
    "# The numeric gradient should be close to the analytic gradient.\n",
    "from cs231n.gradient_check import grad_check_sparse\n",
    "f = lambda w: softmax_loss_naive(w, X_dev, y_dev, 0.0)[0]\n",
    "grad_numerical = grad_check_sparse(f, W, grad, 10)\n",
    "\n",
    "# similar to SVM case, do another gradient check with regularization\n",
    "loss, grad = softmax_loss_naive(W, X_dev, y_dev, 1e2)\n",
    "f = lambda w: softmax_loss_naive(w, X_dev, y_dev, 1e2)[0]\n",
    "grad_numerical = grad_check_sparse(f, W, grad, 10)"
   ]
  },
  {
   "cell_type": "code",
   "execution_count": 68,
   "metadata": {
    "collapsed": false
   },
   "outputs": [
    {
     "name": "stdout",
     "output_type": "stream",
     "text": [
      "naive loss: 2.364982e+00 computed in 0.067848s\n",
      "vectorized loss: 2.364982e+00 computed in 0.002759s\n",
      "Loss difference: 0.000000\n",
      "Gradient difference: 0.000002\n"
     ]
    }
   ],
   "source": [
    "# Now that we have a naive implementation of the softmax loss function and its gradient,\n",
    "# implement a vectorized version in softmax_loss_vectorized.\n",
    "# The two versions should compute the same results, but the vectorized version should be\n",
    "# much faster.\n",
    "tic = time.time()\n",
    "loss_naive, grad_naive = softmax_loss_naive(W, X_dev, y_dev, 1e-4)\n",
    "toc = time.time()\n",
    "print('naive loss: %e computed in %fs' % (loss_naive, toc - tic))\n",
    "\n",
    "from cs231n.classifiers.softmax import softmax_loss_vectorized\n",
    "tic = time.time()\n",
    "loss_vectorized, grad_vectorized = softmax_loss_vectorized(W, X_dev, y_dev, 1e-4)\n",
    "toc = time.time()\n",
    "print('vectorized loss: %e computed in %fs' % (loss_vectorized, toc - tic))\n",
    "\n",
    "# As we did for the SVM, we use the Frobenius norm to compare the two versions\n",
    "# of the gradient.\n",
    "grad_difference = np.linalg.norm(grad_naive - grad_vectorized, ord='fro')\n",
    "print('Loss difference: %f' % np.abs(loss_naive - loss_vectorized))\n",
    "print('Gradient difference: %f' % grad_difference)"
   ]
  },
  {
   "cell_type": "code",
   "execution_count": 64,
   "metadata": {
    "collapsed": false
   },
   "outputs": [
    {
     "name": "stdout",
     "output_type": "stream",
     "text": [
      "lr 1.000000e-07 reg 1.000000e+04 train accuracy: 0.261551 val accuracy: 0.272000\n",
      "lr 1.000000e-07 reg 2.000000e+04 train accuracy: 0.263694 val accuracy: 0.271000\n",
      "lr 1.000000e-07 reg 3.000000e+04 train accuracy: 0.263735 val accuracy: 0.263000\n",
      "lr 1.000000e-07 reg 4.000000e+04 train accuracy: 0.255551 val accuracy: 0.280000\n",
      "lr 1.000000e-07 reg 5.000000e+04 train accuracy: 0.268776 val accuracy: 0.258000\n",
      "lr 1.000000e-07 reg 6.000000e+04 train accuracy: 0.259347 val accuracy: 0.254000\n",
      "lr 1.000000e-07 reg 7.000000e+04 train accuracy: 0.258816 val accuracy: 0.250000\n",
      "lr 1.000000e-07 reg 8.000000e+04 train accuracy: 0.256122 val accuracy: 0.255000\n",
      "lr 1.000000e-07 reg 1.000000e+05 train accuracy: 0.263224 val accuracy: 0.271000\n",
      "lr 2.000000e-07 reg 1.000000e+04 train accuracy: 0.292469 val accuracy: 0.305000\n",
      "lr 2.000000e-07 reg 2.000000e+04 train accuracy: 0.292449 val accuracy: 0.292000\n",
      "lr 2.000000e-07 reg 3.000000e+04 train accuracy: 0.297041 val accuracy: 0.314000\n",
      "lr 2.000000e-07 reg 4.000000e+04 train accuracy: 0.291449 val accuracy: 0.298000\n",
      "lr 2.000000e-07 reg 5.000000e+04 train accuracy: 0.288735 val accuracy: 0.284000\n",
      "lr 2.000000e-07 reg 6.000000e+04 train accuracy: 0.294633 val accuracy: 0.290000\n",
      "lr 2.000000e-07 reg 7.000000e+04 train accuracy: 0.296449 val accuracy: 0.282000\n",
      "lr 2.000000e-07 reg 8.000000e+04 train accuracy: 0.289878 val accuracy: 0.293000\n",
      "lr 2.000000e-07 reg 1.000000e+05 train accuracy: 0.286286 val accuracy: 0.291000\n",
      "lr 3.000000e-07 reg 1.000000e+04 train accuracy: 0.309429 val accuracy: 0.298000\n",
      "lr 3.000000e-07 reg 2.000000e+04 train accuracy: 0.313429 val accuracy: 0.301000\n",
      "lr 3.000000e-07 reg 3.000000e+04 train accuracy: 0.308898 val accuracy: 0.324000\n",
      "lr 3.000000e-07 reg 4.000000e+04 train accuracy: 0.312184 val accuracy: 0.318000\n",
      "lr 3.000000e-07 reg 5.000000e+04 train accuracy: 0.312367 val accuracy: 0.322000\n",
      "lr 3.000000e-07 reg 6.000000e+04 train accuracy: 0.313571 val accuracy: 0.326000\n",
      "lr 3.000000e-07 reg 7.000000e+04 train accuracy: 0.307408 val accuracy: 0.315000\n",
      "lr 3.000000e-07 reg 8.000000e+04 train accuracy: 0.310429 val accuracy: 0.323000\n",
      "lr 3.000000e-07 reg 1.000000e+05 train accuracy: 0.304531 val accuracy: 0.303000\n",
      "lr 8.000000e-07 reg 1.000000e+04 train accuracy: 0.350918 val accuracy: 0.347000\n",
      "lr 8.000000e-07 reg 2.000000e+04 train accuracy: 0.348347 val accuracy: 0.337000\n",
      "lr 8.000000e-07 reg 3.000000e+04 train accuracy: 0.349224 val accuracy: 0.354000\n",
      "lr 8.000000e-07 reg 4.000000e+04 train accuracy: 0.350592 val accuracy: 0.329000\n",
      "lr 8.000000e-07 reg 5.000000e+04 train accuracy: 0.352469 val accuracy: 0.356000\n",
      "lr 8.000000e-07 reg 6.000000e+04 train accuracy: 0.347980 val accuracy: 0.358000\n",
      "lr 8.000000e-07 reg 7.000000e+04 train accuracy: 0.352224 val accuracy: 0.337000\n",
      "lr 8.000000e-07 reg 8.000000e+04 train accuracy: 0.352571 val accuracy: 0.341000\n",
      "lr 8.000000e-07 reg 1.000000e+05 train accuracy: 0.348449 val accuracy: 0.354000\n",
      "lr 5.000000e-05 reg 1.000000e+04 train accuracy: 0.289571 val accuracy: 0.277000\n",
      "lr 5.000000e-05 reg 2.000000e+04 train accuracy: 0.272755 val accuracy: 0.263000\n",
      "lr 5.000000e-05 reg 3.000000e+04 train accuracy: 0.275163 val accuracy: 0.253000\n",
      "lr 5.000000e-05 reg 4.000000e+04 train accuracy: 0.309408 val accuracy: 0.290000\n",
      "lr 5.000000e-05 reg 5.000000e+04 train accuracy: 0.229571 val accuracy: 0.219000\n",
      "lr 5.000000e-05 reg 6.000000e+04 train accuracy: 0.338918 val accuracy: 0.303000\n",
      "lr 5.000000e-05 reg 7.000000e+04 train accuracy: 0.310204 val accuracy: 0.293000\n",
      "lr 5.000000e-05 reg 8.000000e+04 train accuracy: 0.280714 val accuracy: 0.251000\n",
      "lr 5.000000e-05 reg 1.000000e+05 train accuracy: 0.317184 val accuracy: 0.286000\n",
      "best validation accuracy achieved during cross-validation: 0.358000\n"
     ]
    }
   ],
   "source": [
    "# Use the validation set to tune hyperparameters (regularization strength and\n",
    "# learning rate). You should experiment with different ranges for the learning\n",
    "# rates and regularization strengths; if you are careful you should be able to\n",
    "# get a classification accuracy of over 0.35 on the validation set.\n",
    "from cs231n.classifiers import Softmax\n",
    "results = {}\n",
    "best_val = -1\n",
    "best_softmax = None\n",
    "learning_rates = [1e-7, 2e-7, 3e-7, 5e-5, 8e-7]\n",
    "regularization_strengths = [1e4, 2e4, 3e4, 4e4, 5e4, 6e4, 7e4, 8e4, 1e5]\n",
    "\n",
    "################################################################################\n",
    "# TODO:                                                                        #\n",
    "# Use the validation set to set the learning rate and regularization strength. #\n",
    "# This should be identical to the validation that you did for the SVM; save    #\n",
    "# the best trained softmax classifer in best_softmax.                          #\n",
    "################################################################################\n",
    "iters = 2000\n",
    "for lr in learning_rates:\n",
    "    for rs in regularization_strengths:\n",
    "        softmax = Softmax()\n",
    "        softmax.train(X_train, y_train, learning_rate = lr, reg = rs, num_iters = iters)\n",
    "        \n",
    "        y_pred_train = softmax.predict(X_train)\n",
    "        acc_train    = np.mean(y_train == y_pred_train)\n",
    "        y_pred_val   = softmax.predict(X_val)\n",
    "        acc_val      = np.mean(y_val == y_pred_val)\n",
    "        \n",
    "        results[(lr, rs)] = (acc_train, acc_val)\n",
    "        \n",
    "        if best_val < acc_val:\n",
    "            best_val = acc_val\n",
    "            best_softmax = softmax\n",
    "        \n",
    "################################################################################\n",
    "#                              END OF YOUR CODE                                #\n",
    "################################################################################\n",
    "    \n",
    "# Print out results.\n",
    "for lr, reg in sorted(results):\n",
    "    train_accuracy, val_accuracy = results[(lr, reg)]\n",
    "    print('lr %e reg %e train accuracy: %f val accuracy: %f' % (\n",
    "                lr, reg, train_accuracy, val_accuracy))\n",
    "    \n",
    "print('best validation accuracy achieved during cross-validation: %f' % best_val)"
   ]
  },
  {
   "cell_type": "code",
   "execution_count": 65,
   "metadata": {
    "collapsed": false
   },
   "outputs": [
    {
     "name": "stdout",
     "output_type": "stream",
     "text": [
      "softmax on raw pixels final test set accuracy: 0.308000\n"
     ]
    }
   ],
   "source": [
    "# evaluate on test set\n",
    "# Evaluate the best softmax on test set\n",
    "y_test_pred = best_softmax.predict(X_test)\n",
    "test_accuracy = np.mean(y_test == y_test_pred)\n",
    "print('softmax on raw pixels final test set accuracy: %f' % (test_accuracy, ))"
   ]
  },
  {
   "cell_type": "code",
   "execution_count": 67,
   "metadata": {
    "collapsed": false
   },
   "outputs": [
    {
     "data": {
      "image/png": "[encoded data removed]",
      "text/plain": [
       "<matplotlib.figure.Figure at 0x7f88d8a15f28>"
      ]
     },
     "metadata": {},
     "output_type": "display_data"
    }
   ],
   "source": [
    "# Visualize the learned weights for each class\n",
    "w = best_softmax.W[:-1,:] # strip out the bias\n",
    "w = w.reshape(32, 32, 3, 10)\n",
    "\n",
    "w_min, w_max = np.min(w), np.max(w)\n",
    "\n",
    "classes = ['plane', 'car', 'bird', 'cat', 'deer', 'dog', 'frog', 'horse', 'ship', 'truck']\n",
    "for i in range(10):\n",
    "  plt.subplot(2, 5, i + 1)\n",
    "  \n",
    "  # Rescale the weights to be between 0 and 255\n",
    "  wimg = 255.0 * (w[:, :, :, i].squeeze() - w_min) / (w_max - w_min)\n",
    "  plt.imshow(wimg.astype('uint8'))\n",
    "  plt.axis('off')\n",
    "  plt.title(classes[i])"
   ]
  },
  {
   "cell_type": "code",
   "execution_count": null,
   "metadata": {
    "collapsed": true
   },
   "outputs": [],
   "source": []
  }
 ],
 "metadata": {
  "kernelspec": {
   "display_name": "Python 3",
   "language": "python",
   "name": "python3"
  },
  "language_info": {
   "codemirror_mode": {
    "name": "ipython",
    "version": 3
   },
   "file_extension": ".py",
   "mimetype": "text/x-python",
   "name": "python",
   "nbconvert_exporter": "python",
   "pygments_lexer": "ipython3",
   "version": "3.6.0"
  }
 },
 "nbformat": 4,
 "nbformat_minor": 0
}
